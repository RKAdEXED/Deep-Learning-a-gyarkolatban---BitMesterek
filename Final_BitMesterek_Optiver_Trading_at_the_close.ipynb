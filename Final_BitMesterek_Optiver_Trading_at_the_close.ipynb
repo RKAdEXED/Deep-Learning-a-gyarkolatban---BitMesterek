{
  "cells": [
    {
      "cell_type": "markdown",
      "metadata": {
        "id": "view-in-github",
        "colab_type": "text"
      },
      "source": [
        "<a href=\"https://colab.research.google.com/github/RKAdEXED/Deep-Learning-a-gyarkolatban---BitMesterek/blob/main/Final_BitMesterek_Optiver_Trading_at_the_close.ipynb\" target=\"_parent\"><img src=\"https://colab.research.google.com/assets/colab-badge.svg\" alt=\"Open In Colab\"/></a>"
      ]
    },
    {
      "cell_type": "code",
      "execution_count": 1,
      "metadata": {
        "id": "MWF0D3t5_Wxo"
      },
      "outputs": [],
      "source": [
        "# Import libraries\n",
        "import pandas as pd\n",
        "import os\n",
        "import zipfile\n",
        "import numpy as np\n",
        "import random\n",
        "from lightgbm import LGBMRegressor\n",
        "from sklearn.metrics import mean_absolute_error\n",
        "from sklearn.model_selection import train_test_split"
      ]
    },
    {
      "cell_type": "code",
      "execution_count": 2,
      "metadata": {
        "id": "klruvZKRCKkR"
      },
      "outputs": [],
      "source": [
        "# Mount drive to colab\n",
        "#from google.colab import drive\n",
        "#drive.mount('/content/drive')"
      ]
    },
    {
      "cell_type": "code",
      "execution_count": 3,
      "metadata": {
        "id": "Wcasjs8hCROj"
      },
      "outputs": [],
      "source": [
        "# Navigate to working directory\n",
        "# Change to your own Drive directory after MyDrive/\n",
        "\n",
        "#%cd /content/drive/MyDrive/Deep Learning a gyakorlatban/Nagy házi/\n",
        "\n",
        "# Telling Kaggle where to find the API key, needed for dowloading dataset, change to your own directory after MyDrive/\n",
        "#os.environ['KAGGLE_CONFIG_DIR'] = \"/content/drive/MyDrive/Deep Learning a gyakorlatban/Nagy házi\""
      ]
    },
    {
      "cell_type": "code",
      "execution_count": 4,
      "metadata": {
        "id": "3G__JhZjAH02"
      },
      "outputs": [],
      "source": [
        "# Commented out so Colab won't download each time when all cells are run\n",
        "\n",
        "# Download data from Kaggle\n",
        "#!kaggle competitions download -c optiver-trading-at-the-close"
      ]
    },
    {
      "cell_type": "code",
      "execution_count": 5,
      "metadata": {
        "colab": {
          "base_uri": "https://localhost:8080/"
        },
        "id": "j3hUrr3vD9Go",
        "outputId": "588ad7a3-bc76-4b6f-8da1-8a5d5d5c8149"
      },
      "outputs": [
        {
          "output_type": "stream",
          "name": "stdout",
          "text": [
            "\u001b[0m\u001b[01;34msample_data\u001b[0m/\n"
          ]
        }
      ],
      "source": [
        "# Commented out so Colab won't download each time when all cells are run\n",
        "# Unzip, then delete file\n",
        "\n",
        "\n",
        "#for file in os.listdir():\n",
        " #   if file.endswith(\".zip\"):\n",
        "  #      with zipfile.ZipFile(file, \"r\") as zip_file:\n",
        "   #         zip_file.extractall()\n",
        "\n",
        "\n",
        "# List files in working directory\n",
        "%ls"
      ]
    },
    {
      "cell_type": "code",
      "execution_count": 6,
      "metadata": {
        "id": "PoyAhmZWqMhh",
        "colab": {
          "base_uri": "https://localhost:8080/"
        },
        "outputId": "3e2f5714-2a69-45c2-b0f1-909c8569957f"
      },
      "outputs": [
        {
          "output_type": "stream",
          "name": "stdout",
          "text": [
            "--2023-12-12 16:39:55--  https://www.dropbox.com/scl/fi/ibujwdcz78j7u2svlqmum/train.csv?rlkey=r7rwxzxrawaavj8uyhb4edx6j\n",
            "Resolving www.dropbox.com (www.dropbox.com)... 162.125.6.18, 2620:100:601c:18::a27d:612\n",
            "Connecting to www.dropbox.com (www.dropbox.com)|162.125.6.18|:443... connected.\n",
            "HTTP request sent, awaiting response... 302 Found\n",
            "Location: https://uc7b272857521cf11e9de7465d70.dl.dropboxusercontent.com/cd/0/inline/CJSP0AU9XczBGIzI4vFWwjhi_Kzz4_-_dirFUqnzLeh6mdyopU0IW6n6Js3rrYjQiLu5g8xIB-fItrnc7iaXBuHNFC6fkrxddorhbqa1vTXg0OCHp9xSESuGnfTlm_4CbjCWsN_Ek3JokfrMhT5nHe_Z/file# [following]\n",
            "--2023-12-12 16:39:56--  https://uc7b272857521cf11e9de7465d70.dl.dropboxusercontent.com/cd/0/inline/CJSP0AU9XczBGIzI4vFWwjhi_Kzz4_-_dirFUqnzLeh6mdyopU0IW6n6Js3rrYjQiLu5g8xIB-fItrnc7iaXBuHNFC6fkrxddorhbqa1vTXg0OCHp9xSESuGnfTlm_4CbjCWsN_Ek3JokfrMhT5nHe_Z/file\n",
            "Resolving uc7b272857521cf11e9de7465d70.dl.dropboxusercontent.com (uc7b272857521cf11e9de7465d70.dl.dropboxusercontent.com)... 162.125.6.15, 2620:100:601c:15::a27d:60f\n",
            "Connecting to uc7b272857521cf11e9de7465d70.dl.dropboxusercontent.com (uc7b272857521cf11e9de7465d70.dl.dropboxusercontent.com)|162.125.6.15|:443... connected.\n",
            "HTTP request sent, awaiting response... 200 OK\n",
            "Length: 640896779 (611M) [text/plain]\n",
            "Saving to: ‘train.csv?rlkey=r7rwxzxrawaavj8uyhb4edx6j’\n",
            "\n",
            "train.csv?rlkey=r7r 100%[===================>] 611.21M  98.6MB/s    in 4.9s    \n",
            "\n",
            "2023-12-12 16:40:02 (125 MB/s) - ‘train.csv?rlkey=r7rwxzxrawaavj8uyhb4edx6j’ saved [640896779/640896779]\n",
            "\n"
          ]
        }
      ],
      "source": [
        "# Download train.csv\n",
        "!wget https://www.dropbox.com/scl/fi/ibujwdcz78j7u2svlqmum/train.csv?rlkey=r7rwxzxrawaavj8uyhb4edx6j&dl=0"
      ]
    },
    {
      "cell_type": "code",
      "execution_count": 7,
      "metadata": {
        "id": "DZ9DyY8DFZda",
        "colab": {
          "base_uri": "https://localhost:8080/",
          "height": 206
        },
        "outputId": "8c6813e4-8e03-45fd-d5cb-657ac5e9cc70"
      },
      "outputs": [
        {
          "output_type": "execute_result",
          "data": {
            "text/plain": [
              "   stock_id  date_id  seconds_in_bucket  imbalance_size  \\\n",
              "0         0        0                  0      3180602.69   \n",
              "1         1        0                  0       166603.91   \n",
              "2         2        0                  0       302879.87   \n",
              "3         3        0                  0     11917682.27   \n",
              "4         4        0                  0       447549.96   \n",
              "\n",
              "   imbalance_buy_sell_flag  reference_price  matched_size  far_price  \\\n",
              "0                        1         0.999812   13380276.64        NaN   \n",
              "1                       -1         0.999896    1642214.25        NaN   \n",
              "2                       -1         0.999561    1819368.03        NaN   \n",
              "3                       -1         1.000171   18389745.62        NaN   \n",
              "4                       -1         0.999532   17860614.95        NaN   \n",
              "\n",
              "   near_price  bid_price  bid_size  ask_price   ask_size  wap    target  \\\n",
              "0         NaN   0.999812  60651.50   1.000026    8493.03  1.0 -3.029704   \n",
              "1         NaN   0.999896   3233.04   1.000660   20605.09  1.0 -5.519986   \n",
              "2         NaN   0.999403  37956.00   1.000298   18995.00  1.0 -8.389950   \n",
              "3         NaN   0.999999   2324.90   1.000214  479032.40  1.0 -4.010200   \n",
              "4         NaN   0.999394  16485.54   1.000016     434.10  1.0 -7.349849   \n",
              "\n",
              "   time_id row_id  \n",
              "0        0  0_0_0  \n",
              "1        0  0_0_1  \n",
              "2        0  0_0_2  \n",
              "3        0  0_0_3  \n",
              "4        0  0_0_4  "
            ],
            "text/html": [
              "\n",
              "  <div id=\"df-931f4b58-def7-4975-9f93-6e68b3f94103\" class=\"colab-df-container\">\n",
              "    <div>\n",
              "<style scoped>\n",
              "    .dataframe tbody tr th:only-of-type {\n",
              "        vertical-align: middle;\n",
              "    }\n",
              "\n",
              "    .dataframe tbody tr th {\n",
              "        vertical-align: top;\n",
              "    }\n",
              "\n",
              "    .dataframe thead th {\n",
              "        text-align: right;\n",
              "    }\n",
              "</style>\n",
              "<table border=\"1\" class=\"dataframe\">\n",
              "  <thead>\n",
              "    <tr style=\"text-align: right;\">\n",
              "      <th></th>\n",
              "      <th>stock_id</th>\n",
              "      <th>date_id</th>\n",
              "      <th>seconds_in_bucket</th>\n",
              "      <th>imbalance_size</th>\n",
              "      <th>imbalance_buy_sell_flag</th>\n",
              "      <th>reference_price</th>\n",
              "      <th>matched_size</th>\n",
              "      <th>far_price</th>\n",
              "      <th>near_price</th>\n",
              "      <th>bid_price</th>\n",
              "      <th>bid_size</th>\n",
              "      <th>ask_price</th>\n",
              "      <th>ask_size</th>\n",
              "      <th>wap</th>\n",
              "      <th>target</th>\n",
              "      <th>time_id</th>\n",
              "      <th>row_id</th>\n",
              "    </tr>\n",
              "  </thead>\n",
              "  <tbody>\n",
              "    <tr>\n",
              "      <th>0</th>\n",
              "      <td>0</td>\n",
              "      <td>0</td>\n",
              "      <td>0</td>\n",
              "      <td>3180602.69</td>\n",
              "      <td>1</td>\n",
              "      <td>0.999812</td>\n",
              "      <td>13380276.64</td>\n",
              "      <td>NaN</td>\n",
              "      <td>NaN</td>\n",
              "      <td>0.999812</td>\n",
              "      <td>60651.50</td>\n",
              "      <td>1.000026</td>\n",
              "      <td>8493.03</td>\n",
              "      <td>1.0</td>\n",
              "      <td>-3.029704</td>\n",
              "      <td>0</td>\n",
              "      <td>0_0_0</td>\n",
              "    </tr>\n",
              "    <tr>\n",
              "      <th>1</th>\n",
              "      <td>1</td>\n",
              "      <td>0</td>\n",
              "      <td>0</td>\n",
              "      <td>166603.91</td>\n",
              "      <td>-1</td>\n",
              "      <td>0.999896</td>\n",
              "      <td>1642214.25</td>\n",
              "      <td>NaN</td>\n",
              "      <td>NaN</td>\n",
              "      <td>0.999896</td>\n",
              "      <td>3233.04</td>\n",
              "      <td>1.000660</td>\n",
              "      <td>20605.09</td>\n",
              "      <td>1.0</td>\n",
              "      <td>-5.519986</td>\n",
              "      <td>0</td>\n",
              "      <td>0_0_1</td>\n",
              "    </tr>\n",
              "    <tr>\n",
              "      <th>2</th>\n",
              "      <td>2</td>\n",
              "      <td>0</td>\n",
              "      <td>0</td>\n",
              "      <td>302879.87</td>\n",
              "      <td>-1</td>\n",
              "      <td>0.999561</td>\n",
              "      <td>1819368.03</td>\n",
              "      <td>NaN</td>\n",
              "      <td>NaN</td>\n",
              "      <td>0.999403</td>\n",
              "      <td>37956.00</td>\n",
              "      <td>1.000298</td>\n",
              "      <td>18995.00</td>\n",
              "      <td>1.0</td>\n",
              "      <td>-8.389950</td>\n",
              "      <td>0</td>\n",
              "      <td>0_0_2</td>\n",
              "    </tr>\n",
              "    <tr>\n",
              "      <th>3</th>\n",
              "      <td>3</td>\n",
              "      <td>0</td>\n",
              "      <td>0</td>\n",
              "      <td>11917682.27</td>\n",
              "      <td>-1</td>\n",
              "      <td>1.000171</td>\n",
              "      <td>18389745.62</td>\n",
              "      <td>NaN</td>\n",
              "      <td>NaN</td>\n",
              "      <td>0.999999</td>\n",
              "      <td>2324.90</td>\n",
              "      <td>1.000214</td>\n",
              "      <td>479032.40</td>\n",
              "      <td>1.0</td>\n",
              "      <td>-4.010200</td>\n",
              "      <td>0</td>\n",
              "      <td>0_0_3</td>\n",
              "    </tr>\n",
              "    <tr>\n",
              "      <th>4</th>\n",
              "      <td>4</td>\n",
              "      <td>0</td>\n",
              "      <td>0</td>\n",
              "      <td>447549.96</td>\n",
              "      <td>-1</td>\n",
              "      <td>0.999532</td>\n",
              "      <td>17860614.95</td>\n",
              "      <td>NaN</td>\n",
              "      <td>NaN</td>\n",
              "      <td>0.999394</td>\n",
              "      <td>16485.54</td>\n",
              "      <td>1.000016</td>\n",
              "      <td>434.10</td>\n",
              "      <td>1.0</td>\n",
              "      <td>-7.349849</td>\n",
              "      <td>0</td>\n",
              "      <td>0_0_4</td>\n",
              "    </tr>\n",
              "  </tbody>\n",
              "</table>\n",
              "</div>\n",
              "    <div class=\"colab-df-buttons\">\n",
              "\n",
              "  <div class=\"colab-df-container\">\n",
              "    <button class=\"colab-df-convert\" onclick=\"convertToInteractive('df-931f4b58-def7-4975-9f93-6e68b3f94103')\"\n",
              "            title=\"Convert this dataframe to an interactive table.\"\n",
              "            style=\"display:none;\">\n",
              "\n",
              "  <svg xmlns=\"http://www.w3.org/2000/svg\" height=\"24px\" viewBox=\"0 -960 960 960\">\n",
              "    <path d=\"M120-120v-720h720v720H120Zm60-500h600v-160H180v160Zm220 220h160v-160H400v160Zm0 220h160v-160H400v160ZM180-400h160v-160H180v160Zm440 0h160v-160H620v160ZM180-180h160v-160H180v160Zm440 0h160v-160H620v160Z\"/>\n",
              "  </svg>\n",
              "    </button>\n",
              "\n",
              "  <style>\n",
              "    .colab-df-container {\n",
              "      display:flex;\n",
              "      gap: 12px;\n",
              "    }\n",
              "\n",
              "    .colab-df-convert {\n",
              "      background-color: #E8F0FE;\n",
              "      border: none;\n",
              "      border-radius: 50%;\n",
              "      cursor: pointer;\n",
              "      display: none;\n",
              "      fill: #1967D2;\n",
              "      height: 32px;\n",
              "      padding: 0 0 0 0;\n",
              "      width: 32px;\n",
              "    }\n",
              "\n",
              "    .colab-df-convert:hover {\n",
              "      background-color: #E2EBFA;\n",
              "      box-shadow: 0px 1px 2px rgba(60, 64, 67, 0.3), 0px 1px 3px 1px rgba(60, 64, 67, 0.15);\n",
              "      fill: #174EA6;\n",
              "    }\n",
              "\n",
              "    .colab-df-buttons div {\n",
              "      margin-bottom: 4px;\n",
              "    }\n",
              "\n",
              "    [theme=dark] .colab-df-convert {\n",
              "      background-color: #3B4455;\n",
              "      fill: #D2E3FC;\n",
              "    }\n",
              "\n",
              "    [theme=dark] .colab-df-convert:hover {\n",
              "      background-color: #434B5C;\n",
              "      box-shadow: 0px 1px 3px 1px rgba(0, 0, 0, 0.15);\n",
              "      filter: drop-shadow(0px 1px 2px rgba(0, 0, 0, 0.3));\n",
              "      fill: #FFFFFF;\n",
              "    }\n",
              "  </style>\n",
              "\n",
              "    <script>\n",
              "      const buttonEl =\n",
              "        document.querySelector('#df-931f4b58-def7-4975-9f93-6e68b3f94103 button.colab-df-convert');\n",
              "      buttonEl.style.display =\n",
              "        google.colab.kernel.accessAllowed ? 'block' : 'none';\n",
              "\n",
              "      async function convertToInteractive(key) {\n",
              "        const element = document.querySelector('#df-931f4b58-def7-4975-9f93-6e68b3f94103');\n",
              "        const dataTable =\n",
              "          await google.colab.kernel.invokeFunction('convertToInteractive',\n",
              "                                                    [key], {});\n",
              "        if (!dataTable) return;\n",
              "\n",
              "        const docLinkHtml = 'Like what you see? Visit the ' +\n",
              "          '<a target=\"_blank\" href=https://colab.research.google.com/notebooks/data_table.ipynb>data table notebook</a>'\n",
              "          + ' to learn more about interactive tables.';\n",
              "        element.innerHTML = '';\n",
              "        dataTable['output_type'] = 'display_data';\n",
              "        await google.colab.output.renderOutput(dataTable, element);\n",
              "        const docLink = document.createElement('div');\n",
              "        docLink.innerHTML = docLinkHtml;\n",
              "        element.appendChild(docLink);\n",
              "      }\n",
              "    </script>\n",
              "  </div>\n",
              "\n",
              "\n",
              "<div id=\"df-3baaca6e-d8bf-4a74-a074-3a2745778dab\">\n",
              "  <button class=\"colab-df-quickchart\" onclick=\"quickchart('df-3baaca6e-d8bf-4a74-a074-3a2745778dab')\"\n",
              "            title=\"Suggest charts\"\n",
              "            style=\"display:none;\">\n",
              "\n",
              "<svg xmlns=\"http://www.w3.org/2000/svg\" height=\"24px\"viewBox=\"0 0 24 24\"\n",
              "     width=\"24px\">\n",
              "    <g>\n",
              "        <path d=\"M19 3H5c-1.1 0-2 .9-2 2v14c0 1.1.9 2 2 2h14c1.1 0 2-.9 2-2V5c0-1.1-.9-2-2-2zM9 17H7v-7h2v7zm4 0h-2V7h2v10zm4 0h-2v-4h2v4z\"/>\n",
              "    </g>\n",
              "</svg>\n",
              "  </button>\n",
              "\n",
              "<style>\n",
              "  .colab-df-quickchart {\n",
              "      --bg-color: #E8F0FE;\n",
              "      --fill-color: #1967D2;\n",
              "      --hover-bg-color: #E2EBFA;\n",
              "      --hover-fill-color: #174EA6;\n",
              "      --disabled-fill-color: #AAA;\n",
              "      --disabled-bg-color: #DDD;\n",
              "  }\n",
              "\n",
              "  [theme=dark] .colab-df-quickchart {\n",
              "      --bg-color: #3B4455;\n",
              "      --fill-color: #D2E3FC;\n",
              "      --hover-bg-color: #434B5C;\n",
              "      --hover-fill-color: #FFFFFF;\n",
              "      --disabled-bg-color: #3B4455;\n",
              "      --disabled-fill-color: #666;\n",
              "  }\n",
              "\n",
              "  .colab-df-quickchart {\n",
              "    background-color: var(--bg-color);\n",
              "    border: none;\n",
              "    border-radius: 50%;\n",
              "    cursor: pointer;\n",
              "    display: none;\n",
              "    fill: var(--fill-color);\n",
              "    height: 32px;\n",
              "    padding: 0;\n",
              "    width: 32px;\n",
              "  }\n",
              "\n",
              "  .colab-df-quickchart:hover {\n",
              "    background-color: var(--hover-bg-color);\n",
              "    box-shadow: 0 1px 2px rgba(60, 64, 67, 0.3), 0 1px 3px 1px rgba(60, 64, 67, 0.15);\n",
              "    fill: var(--button-hover-fill-color);\n",
              "  }\n",
              "\n",
              "  .colab-df-quickchart-complete:disabled,\n",
              "  .colab-df-quickchart-complete:disabled:hover {\n",
              "    background-color: var(--disabled-bg-color);\n",
              "    fill: var(--disabled-fill-color);\n",
              "    box-shadow: none;\n",
              "  }\n",
              "\n",
              "  .colab-df-spinner {\n",
              "    border: 2px solid var(--fill-color);\n",
              "    border-color: transparent;\n",
              "    border-bottom-color: var(--fill-color);\n",
              "    animation:\n",
              "      spin 1s steps(1) infinite;\n",
              "  }\n",
              "\n",
              "  @keyframes spin {\n",
              "    0% {\n",
              "      border-color: transparent;\n",
              "      border-bottom-color: var(--fill-color);\n",
              "      border-left-color: var(--fill-color);\n",
              "    }\n",
              "    20% {\n",
              "      border-color: transparent;\n",
              "      border-left-color: var(--fill-color);\n",
              "      border-top-color: var(--fill-color);\n",
              "    }\n",
              "    30% {\n",
              "      border-color: transparent;\n",
              "      border-left-color: var(--fill-color);\n",
              "      border-top-color: var(--fill-color);\n",
              "      border-right-color: var(--fill-color);\n",
              "    }\n",
              "    40% {\n",
              "      border-color: transparent;\n",
              "      border-right-color: var(--fill-color);\n",
              "      border-top-color: var(--fill-color);\n",
              "    }\n",
              "    60% {\n",
              "      border-color: transparent;\n",
              "      border-right-color: var(--fill-color);\n",
              "    }\n",
              "    80% {\n",
              "      border-color: transparent;\n",
              "      border-right-color: var(--fill-color);\n",
              "      border-bottom-color: var(--fill-color);\n",
              "    }\n",
              "    90% {\n",
              "      border-color: transparent;\n",
              "      border-bottom-color: var(--fill-color);\n",
              "    }\n",
              "  }\n",
              "</style>\n",
              "\n",
              "  <script>\n",
              "    async function quickchart(key) {\n",
              "      const quickchartButtonEl =\n",
              "        document.querySelector('#' + key + ' button');\n",
              "      quickchartButtonEl.disabled = true;  // To prevent multiple clicks.\n",
              "      quickchartButtonEl.classList.add('colab-df-spinner');\n",
              "      try {\n",
              "        const charts = await google.colab.kernel.invokeFunction(\n",
              "            'suggestCharts', [key], {});\n",
              "      } catch (error) {\n",
              "        console.error('Error during call to suggestCharts:', error);\n",
              "      }\n",
              "      quickchartButtonEl.classList.remove('colab-df-spinner');\n",
              "      quickchartButtonEl.classList.add('colab-df-quickchart-complete');\n",
              "    }\n",
              "    (() => {\n",
              "      let quickchartButtonEl =\n",
              "        document.querySelector('#df-3baaca6e-d8bf-4a74-a074-3a2745778dab button');\n",
              "      quickchartButtonEl.style.display =\n",
              "        google.colab.kernel.accessAllowed ? 'block' : 'none';\n",
              "    })();\n",
              "  </script>\n",
              "</div>\n",
              "    </div>\n",
              "  </div>\n"
            ]
          },
          "metadata": {},
          "execution_count": 7
        }
      ],
      "source": [
        "\n",
        "import_data = pd.read_csv ('train.csv?rlkey=r7rwxzxrawaavj8uyhb4edx6j')\n",
        "import_data.head()"
      ]
    },
    {
      "cell_type": "markdown",
      "metadata": {
        "id": "o6PB-vEcca5f"
      },
      "source": [
        "Number of datapoints:\n",
        "\n",
        "200 stocks\n",
        "481 days\n",
        "55 steps each day\n",
        "\n",
        "So number of datapoints should be 200 * 481 * 55  (stocks * days * steps) = 5291000"
      ]
    },
    {
      "cell_type": "code",
      "execution_count": 8,
      "metadata": {
        "id": "M8BpcMYnIhp7",
        "colab": {
          "base_uri": "https://localhost:8080/"
        },
        "outputId": "951cf813-5353-418b-9867-a67b0bc3c82e"
      },
      "outputs": [
        {
          "output_type": "execute_result",
          "data": {
            "text/plain": [
              "(5237980, 17)"
            ]
          },
          "metadata": {},
          "execution_count": 8
        }
      ],
      "source": [
        "\n",
        "import_data.shape"
      ]
    },
    {
      "cell_type": "markdown",
      "metadata": {
        "id": "n9M0ZQiYdxXd"
      },
      "source": [
        "We can see that 53020 datapoints are missing"
      ]
    },
    {
      "cell_type": "code",
      "execution_count": 9,
      "metadata": {
        "id": "K0iIkCAGd2bO",
        "colab": {
          "base_uri": "https://localhost:8080/"
        },
        "outputId": "fcceab9c-3687-4146-c2ec-0fa7815e7336"
      },
      "outputs": [
        {
          "output_type": "stream",
          "name": "stdout",
          "text": [
            "Date and number of missing stocks:\n",
            "date_id\n",
            "0      9\n",
            "1      9\n",
            "2      9\n",
            "3      9\n",
            "4      8\n",
            "      ..\n",
            "476    0\n",
            "477    0\n",
            "478    0\n",
            "479    0\n",
            "480    0\n",
            "Name: stock_id, Length: 481, dtype: int64\n",
            "Total number of missing stocks: 964\n"
          ]
        }
      ],
      "source": [
        "\n",
        "data_frame = import_data\n",
        "\n",
        "# Group the data by 'date_id' and count the unique 'stock_id' values for each day\n",
        "stock_count_per_day = data_frame.groupby('date_id')['stock_id'].nunique()\n",
        "\n",
        "# Expected number of stocks each day\n",
        "expected_stock_count = 200\n",
        "\n",
        "# Number of missing stocks each day\n",
        "missing_stock_count = expected_stock_count - stock_count_per_day\n",
        "\n",
        "# Total missing stocks througouth the 200 days\n",
        "total_missing_stocks = missing_stock_count.sum()\n",
        "\n",
        "# Days and number of missing stocks\n",
        "print(\"Date and number of missing stocks:\")\n",
        "print(missing_stock_count)\n",
        "\n",
        "# Total number of missing stocks\n",
        "print(\"Total number of missing stocks:\", total_missing_stocks)\n"
      ]
    },
    {
      "cell_type": "markdown",
      "metadata": {
        "id": "sQKgAmopmOGN"
      },
      "source": [
        "As we can see throughout the 481 days a total of 964 stocks are missing entirely. 964 * 55 = 53020,  so this means that missing data is found. This also means that fortunately that the stock data that we do have doesn't have any missing values."
      ]
    },
    {
      "cell_type": "code",
      "execution_count": 10,
      "metadata": {
        "id": "rPbIVSf9zOrz"
      },
      "outputs": [],
      "source": [
        "\n",
        "# Function to plot the time series of a stock on a day\n",
        "def stock_plotter(data_frame, cols, stock_id, date_id):\n",
        "\n",
        "  # Filtering data_frame where the stock_id and date_id match with our inputs\n",
        "  data_frame = data_frame.query(f'stock_id == {stock_id} & date_id == {date_id}')\n",
        "\n",
        "  # We want all rows of the seconds_in_bucket and input columns\n",
        "  data_frame = data_frame.loc[:, ['seconds_in_bucket'] + cols]\n",
        "\n",
        "  # Set seconds_in_bucket as the index for the data_frame\n",
        "  data_frame = data_frame.set_index('seconds_in_bucket')\n",
        "\n",
        "  # Plot time series\n",
        "  data_frame = data_frame.plot(title=f'Stock {stock_id} on Day {date_id}', figsize=(10, 4), linewidth=1)"
      ]
    },
    {
      "cell_type": "code",
      "execution_count": 11,
      "metadata": {
        "id": "nhTJzBTX1No2",
        "colab": {
          "base_uri": "https://localhost:8080/",
          "height": 410
        },
        "outputId": "1d7113e2-003a-4320-a275-c32dbdbe5d94"
      },
      "outputs": [
        {
          "output_type": "display_data",
          "data": {
            "text/plain": [
              "<Figure size 1000x400 with 1 Axes>"
            ],
            "image/png": "[encoded data removed]"
          },
          "metadata": {}
        }
      ],
      "source": [
        "\n",
        "# Generate random numbers to print random stocks on random days, not excluding the missing ones (will have to fix in future)\n",
        "stock_no = random.randint(0,200)\n",
        "day_no = random.randint(0,481)\n",
        "\n",
        "# Plot\n",
        "stock_plotter(\n",
        "  data_frame=import_data,\n",
        "  cols=['bid_price','ask_price', 'wap'],\n",
        "  stock_id=stock_no,\n",
        "  date_id=day_no)\n",
        "\n"
      ]
    },
    {
      "cell_type": "code",
      "execution_count": 12,
      "metadata": {
        "id": "yrdikP85q0kD"
      },
      "outputs": [],
      "source": [
        "\n",
        "\n",
        "# Dropping NaN values because they cause errors in calculatin MAE\n",
        "data_frame = data_frame.dropna(subset=['target'])\n",
        "\n",
        "# Splitting data, dropping row_id becaues it's not necesseary, and it's 'object' type causing error with pandas\n",
        "#X = data_frame.drop(['target', 'row_id'], axis=1)\n",
        "#y = data_frame[['target']]\n",
        "\n",
        "\n",
        "#X_train, X_test, y_train, y_test = train_test_split(X, y, test_size=0.1,)\n"
      ]
    },
    {
      "cell_type": "code",
      "source": [
        "!pip install keras_tuner"
      ],
      "metadata": {
        "id": "CB5aKppn-0mo",
        "colab": {
          "base_uri": "https://localhost:8080/"
        },
        "outputId": "ecba26d4-872c-4087-ea72-7b2420b03595"
      },
      "execution_count": 13,
      "outputs": [
        {
          "output_type": "stream",
          "name": "stdout",
          "text": [
            "Collecting keras_tuner\n",
            "  Downloading keras_tuner-1.4.6-py3-none-any.whl (128 kB)\n",
            "\u001b[2K     \u001b[90m━━━━━━━━━━━━━━━━━━━━━━━━━━━━━━━━━━━━━━━━\u001b[0m \u001b[32m128.9/128.9 kB\u001b[0m \u001b[31m1.5 MB/s\u001b[0m eta \u001b[36m0:00:00\u001b[0m\n",
            "\u001b[?25hRequirement already satisfied: keras in /usr/local/lib/python3.10/dist-packages (from keras_tuner) (2.14.0)\n",
            "Requirement already satisfied: packaging in /usr/local/lib/python3.10/dist-packages (from keras_tuner) (23.2)\n",
            "Requirement already satisfied: requests in /usr/local/lib/python3.10/dist-packages (from keras_tuner) (2.31.0)\n",
            "Collecting kt-legacy (from keras_tuner)\n",
            "  Downloading kt_legacy-1.0.5-py3-none-any.whl (9.6 kB)\n",
            "Requirement already satisfied: charset-normalizer<4,>=2 in /usr/local/lib/python3.10/dist-packages (from requests->keras_tuner) (3.3.2)\n",
            "Requirement already satisfied: idna<4,>=2.5 in /usr/local/lib/python3.10/dist-packages (from requests->keras_tuner) (3.6)\n",
            "Requirement already satisfied: urllib3<3,>=1.21.1 in /usr/local/lib/python3.10/dist-packages (from requests->keras_tuner) (2.0.7)\n",
            "Requirement already satisfied: certifi>=2017.4.17 in /usr/local/lib/python3.10/dist-packages (from requests->keras_tuner) (2023.11.17)\n",
            "Installing collected packages: kt-legacy, keras_tuner\n",
            "Successfully installed keras_tuner-1.4.6 kt-legacy-1.0.5\n"
          ]
        }
      ]
    },
    {
      "cell_type": "code",
      "source": [
        "\n",
        "#There are a lot of Nan values in the dataset (especially in far_price, near_price), which causes problems with the training\n",
        "print(data_frame.isnull().sum())\n"
      ],
      "metadata": {
        "colab": {
          "base_uri": "https://localhost:8080/"
        },
        "id": "I-qYhTPQYqxb",
        "outputId": "f58a03e0-17a0-48e8-9dec-accd026123e6"
      },
      "execution_count": 14,
      "outputs": [
        {
          "output_type": "stream",
          "name": "stdout",
          "text": [
            "stock_id                         0\n",
            "date_id                          0\n",
            "seconds_in_bucket                0\n",
            "imbalance_size                 132\n",
            "imbalance_buy_sell_flag          0\n",
            "reference_price                132\n",
            "matched_size                   132\n",
            "far_price                  2894254\n",
            "near_price                 2857092\n",
            "bid_price                      132\n",
            "bid_size                         0\n",
            "ask_price                      132\n",
            "ask_size                         0\n",
            "wap                            132\n",
            "target                           0\n",
            "time_id                          0\n",
            "row_id                           0\n",
            "dtype: int64\n"
          ]
        }
      ]
    },
    {
      "cell_type": "code",
      "source": [
        "#delete the rows where these features are NaN (only 132 each which is not a big loss, considering that the number of all rows are 2894254)\n",
        "data_frame = data_frame.dropna(subset=['imbalance_size', 'reference_price', 'matched_size', 'bid_price', 'ask_price', 'wap'])"
      ],
      "metadata": {
        "id": "2Yix8pb5Yp9n"
      },
      "execution_count": 15,
      "outputs": []
    },
    {
      "cell_type": "code",
      "source": [
        "!pip install xgboost"
      ],
      "metadata": {
        "id": "kzL6MEduAy6N",
        "colab": {
          "base_uri": "https://localhost:8080/"
        },
        "outputId": "fc4cb111-a51b-4be6-f9ee-43f275bdc41a"
      },
      "execution_count": 16,
      "outputs": [
        {
          "output_type": "stream",
          "name": "stdout",
          "text": [
            "Requirement already satisfied: xgboost in /usr/local/lib/python3.10/dist-packages (2.0.2)\n",
            "Requirement already satisfied: numpy in /usr/local/lib/python3.10/dist-packages (from xgboost) (1.23.5)\n",
            "Requirement already satisfied: scipy in /usr/local/lib/python3.10/dist-packages (from xgboost) (1.11.4)\n"
          ]
        }
      ]
    },
    {
      "cell_type": "code",
      "source": [
        "import xgboost as xgb\n",
        "from sklearn.model_selection import train_test_split\n",
        "from sklearn.metrics import mean_squared_error\n",
        "\n",
        "def predict_missing_values(data_frame, target_column):\n",
        "    # Filter out non-numeric columns\n",
        "    numeric_df = data_frame.select_dtypes(include=['int', 'float', 'bool'])\n",
        "\n",
        "    # Split the data into subsets\n",
        "    data_with_target = numeric_df[numeric_df[target_column].notnull()]\n",
        "    data_without_target = numeric_df[numeric_df[target_column].isnull()]\n",
        "\n",
        "    # Prepare feature matrix (X) and target vector (y)\n",
        "    X = data_with_target.drop(columns=[target_column])\n",
        "    y = data_with_target[target_column]\n",
        "\n",
        "    # Split the data into training and testing sets\n",
        "    X_train, X_test, y_train, y_test = train_test_split(X, y, test_size=0.2, random_state=42)\n",
        "\n",
        "    # Initialize and train the XGBoost model\n",
        "    model = xgb.XGBRegressor(objective='reg:squarederror', n_estimators=100, learning_rate=0.1, max_depth=5)\n",
        "    model.fit(X_train, y_train)\n",
        "\n",
        "    # Evaluate the model\n",
        "    y_pred = model.predict(X_test)\n",
        "    mse = mean_squared_error(y_test, y_pred)\n",
        "    print(f\"Mean Squared Error for {target_column}: {mse}\")\n",
        "\n",
        "    # Predict missing values\n",
        "    X_missing = data_without_target.drop(columns=[target_column])\n",
        "    predicted_values = model.predict(X_missing)\n",
        "\n",
        "    # Fill in the missing values in the original DataFrame\n",
        "    data_frame.loc[data_frame[target_column].isnull(), target_column] = predicted_values\n",
        "\n",
        "# Predict and impute missing values\n",
        "predict_missing_values(data_frame, 'far_price')\n",
        "predict_missing_values(data_frame, 'near_price')\n",
        "\n",
        "# Check remaining missing values\n",
        "print(data_frame.isnull().sum())"
      ],
      "metadata": {
        "id": "-EHbHughA0dc",
        "colab": {
          "base_uri": "https://localhost:8080/"
        },
        "outputId": "f35ccf0a-e32e-4df0-bf05-3240b7b28080"
      },
      "execution_count": 17,
      "outputs": [
        {
          "output_type": "stream",
          "name": "stdout",
          "text": [
            "Mean Squared Error for far_price: 0.4546290234381314\n",
            "Mean Squared Error for near_price: 1.8573832448109786e-05\n",
            "stock_id                   0\n",
            "date_id                    0\n",
            "seconds_in_bucket          0\n",
            "imbalance_size             0\n",
            "imbalance_buy_sell_flag    0\n",
            "reference_price            0\n",
            "matched_size               0\n",
            "far_price                  0\n",
            "near_price                 0\n",
            "bid_price                  0\n",
            "bid_size                   0\n",
            "ask_price                  0\n",
            "ask_size                   0\n",
            "wap                        0\n",
            "target                     0\n",
            "time_id                    0\n",
            "row_id                     0\n",
            "dtype: int64\n"
          ]
        }
      ]
    },
    {
      "cell_type": "code",
      "source": [
        "# Splitting data, dropping row_id becaues it's not necesseary, and it's 'object' type causing error with pandas\n",
        "X = data_frame.drop(['target', 'row_id'], axis=1)\n",
        "y = data_frame[['target']]\n",
        "\n",
        "X_train, X_test, y_train, y_test = train_test_split(X, y, test_size=0.2, random_state=42)\n",
        "X_train, X_val, y_train, y_val = train_test_split(X_train, y_train, test_size=0.1, random_state=42)"
      ],
      "metadata": {
        "id": "2rg11yZh6spM"
      },
      "execution_count": 18,
      "outputs": []
    },
    {
      "cell_type": "code",
      "source": [
        "import tensorflow as tf\n",
        "from tensorflow import keras\n",
        "from tensorflow.keras import layers\n",
        "from tensorflow.keras.callbacks import EarlyStopping\n",
        "from keras_tuner.tuners import Hyperband\n",
        "\n",
        "import os\n",
        "from tensorflow.keras.models import load_model\n",
        "from sklearn.metrics import mean_absolute_error\n",
        "\n",
        "#predicting with Hyperband\n",
        "\n",
        "def build_model(hp):\n",
        "    model_new = keras.Sequential()\n",
        "\n",
        "     # Input layer\n",
        "    model_new.add(layers.Flatten(input_shape=(X_train.shape[1],)))\n",
        "\n",
        "    # Hidden layers\n",
        "    for i in range(hp.Int('num_layers', min_value=2, max_value=4, step=1)):\n",
        "        model_new.add(layers.Dense(units=hp.Int('units_' + str(i), min_value=32, max_value=512, step=32), activation='relu'))\n",
        "        model_new.add(layers.Dropout(rate=hp.Float('dropout_' + str(i), min_value=0.0, max_value=0.5, step=0.1)))\n",
        "\n",
        "    # Output layer\n",
        "    model_new.add(layers.Dense(1, activation='linear'))\n",
        "\n",
        "\n",
        "    '''model_new.compile(optimizer=keras.optimizers.Adam(hp.Choice('learning_rate', values=[1e-2, 1e-3, 1e-4])),\n",
        "                  loss='mean_squared_error',\n",
        "                  metrics=['mean_absolute_error'])\n",
        "    '''\n",
        "\n",
        "    model_new.compile(\n",
        "        optimizer=hp.Choice('optimizer', values=['adam', 'sgd', 'rmsprop']),\n",
        "        loss='mean_squared_error',\n",
        "        metrics=['mean_absolute_error'])\n",
        "    return model_new\n",
        "\n",
        "\n",
        "input_shape = X_train.shape[1]\n",
        "output_classes = 1\n",
        "\n",
        "early_stopping = EarlyStopping(monitor='val_loss', patience=5, restore_best_weights=True)\n",
        "\n",
        "tuner = Hyperband(\n",
        "    build_model,\n",
        "    #ideally it should be 1<maX but it is rather time consuming\n",
        "    max_epochs=1,\n",
        "    factor=3,\n",
        "    objective='val_mean_absolute_error',\n",
        "    directory='tuning_directory',\n",
        "    project_name='project'\n",
        ")\n",
        "\n",
        "tuner.search(X_train, y_train, epochs = 1, validation_data=(X_val, y_val), callbacks=[early_stopping])"
      ],
      "metadata": {
        "id": "Vdpg_A1fA7-k",
        "collapsed": true,
        "colab": {
          "base_uri": "https://localhost:8080/"
        },
        "outputId": "35f0247b-7d5b-4e6b-ea86-6d05312222e3"
      },
      "execution_count": 19,
      "outputs": [
        {
          "output_type": "stream",
          "name": "stdout",
          "text": [
            "Trial 1 Complete [00h 06m 29s]\n",
            "val_mean_absolute_error: 6.403029441833496\n",
            "\n",
            "Best val_mean_absolute_error So Far: 6.403029441833496\n",
            "Total elapsed time: 00h 06m 29s\n"
          ]
        }
      ]
    },
    {
      "cell_type": "code",
      "source": [
        "\n",
        "best_model = tuner.get_best_models(num_models=1)[0]\n",
        "\n",
        "# Function to evaluate model performance\n",
        "def evaluate_model(model, X_test, y_test):\n",
        "    predictions = model.predict(X_test)\n",
        "    return mean_absolute_error(y_test, predictions)\n",
        "\n",
        "\n",
        "# Evaluate the manually built and trained model\n",
        "best_model_mae = evaluate_model(best_model, X_test, y_test)"
      ],
      "metadata": {
        "id": "LGvt7O0wu7Mm",
        "colab": {
          "base_uri": "https://localhost:8080/"
        },
        "outputId": "177b4b8f-b4a3-4339-f4bd-399bb869608e"
      },
      "execution_count": 20,
      "outputs": [
        {
          "output_type": "stream",
          "name": "stdout",
          "text": [
            "32736/32736 [==============================] - 58s 2ms/step\n"
          ]
        }
      ]
    },
    {
      "cell_type": "code",
      "source": [
        "# Load the existing best model if it exists\n",
        "model_file = 'best_model.h5'\n",
        "if os.path.exists(model_file):\n",
        "    saved_model = load_model(model_file)\n",
        "    saved_model_mae = evaluate_model(saved_model, X_test, y_test)\n",
        "else:\n",
        "    saved_model_mae = float('inf')  # Set to infinity if no model is saved"
      ],
      "metadata": {
        "id": "ihu9gE0-RdDG"
      },
      "execution_count": 21,
      "outputs": []
    },
    {
      "cell_type": "code",
      "source": [
        "# Save the new model only if it performs better\n",
        "if best_model_mae < saved_model_mae:\n",
        "    best_model.save(model_file)\n",
        "    print(\"New model saved as it performs better.\")\n",
        "else:\n",
        "    print(\"Existing model retained as it performs better.\")\n",
        "    best_model = saved_model if os.path.exists(model_file) else new_model\n",
        "    best_model_mae = saved_model_mae if os.path.exists(model_file) else new_model_mae\n",
        "\n",
        "# Print out the overall best model's performance\n",
        "print(\"Overall Best Model MAE:\", best_model_mae)"
      ],
      "metadata": {
        "id": "55PBfroLTrCu",
        "colab": {
          "base_uri": "https://localhost:8080/"
        },
        "outputId": "b20d6bbe-3855-461d-9527-fb9ddd1a893a"
      },
      "execution_count": 22,
      "outputs": [
        {
          "output_type": "stream",
          "name": "stdout",
          "text": [
            "New model saved as it performs better.\n",
            "Overall Best Model MAE: 6.396562455377008\n"
          ]
        },
        {
          "output_type": "stream",
          "name": "stderr",
          "text": [
            "/usr/local/lib/python3.10/dist-packages/keras/src/engine/training.py:3079: UserWarning: You are saving your model as an HDF5 file via `model.save()`. This file format is considered legacy. We recommend using instead the native Keras format, e.g. `model.save('my_model.keras')`.\n",
            "  saving_api.save_model(\n"
          ]
        }
      ]
    },
    {
      "cell_type": "code",
      "source": [
        "best_model.fit(X_train, y_train)\n",
        "\n",
        "# Get predictions of test set\n",
        "pred_LGB=best_model.predict(X_test)\n",
        "\n",
        "# Calculate the mean absolute error of the predictions and target\n",
        "mean_ae = mean_absolute_error(y_test,pred_LGB)\n",
        "print(\"MAE score of model =\", mean_ae)"
      ],
      "metadata": {
        "id": "mjHpqH7KFAmW",
        "colab": {
          "base_uri": "https://localhost:8080/"
        },
        "outputId": "c2fd160f-588f-4a7a-f28d-834a60b82e08"
      },
      "execution_count": 23,
      "outputs": [
        {
          "output_type": "stream",
          "name": "stdout",
          "text": [
            "117850/117850 [==============================] - 376s 3ms/step - loss: 35732.4648 - mean_absolute_error: 6.5957\n",
            "32736/32736 [==============================] - 60s 2ms/step\n",
            "MAE score of model = 6.3965049882391485\n"
          ]
        }
      ]
    }
  ],
  "metadata": {
    "colab": {
      "provenance": [],
      "include_colab_link": true
    },
    "kernelspec": {
      "display_name": "Python 3",
      "name": "python3"
    },
    "language_info": {
      "name": "python"
    }
  },
  "nbformat": 4,
  "nbformat_minor": 0
}